{
 "cells": [
  {
   "cell_type": "markdown",
   "id": "773d4f62",
   "metadata": {},
   "source": [
    "## Implement the geometric product for multivectors\n",
    "\n",
    "For example, $(1+e_1e_2 + e_1e_2e_3) (1+e_1+e_3) = 1 + e_1 - e_2 + e_3 + 2 e_1 e_2 + e_2e_3 + 2 e_1e_2e_3$"
   ]
  },
  {
   "cell_type": "markdown",
   "id": "77bcd7f0",
   "metadata": {},
   "source": [
    "Overview of the interface:\n",
    "\n",
    "There are several classes currently implemented:\n",
    "- BasisBlade, which stores the basic blades composed of basis vectors (but without any sign information)\n",
    "- Blade, which pairs BasisBlade with a weight and supports addition/subtraction operations\n",
    "- MultivectorExplicit, which is made of a collection/sum of Blade objects\n",
    "- GnObj, which stores the lookup tables to work with multivectors in the flattened coordinates/indices"
   ]
  },
  {
   "cell_type": "code",
   "execution_count": 1,
   "id": "8f12e058",
   "metadata": {},
   "outputs": [],
   "source": [
    "import numpy as np\n",
    "import copy\n",
    "from numbers import Number\n",
    "from typing import Iterable, Callable\n",
    "import itertools\n",
    "rng = np.random.default_rng(0)"
   ]
  },
  {
   "cell_type": "code",
   "execution_count": 2,
   "id": "02d88411",
   "metadata": {},
   "outputs": [],
   "source": [
    "# See https://docs.python.org/3/library/itertools.html\n",
    "# for the original code based on itertolls\n",
    "def powerset(iterable):\n",
    "    \"powerset([1,2,3]) --> () (1,) (2,) (3,) (1,2) (1,3) (2,3) (1,2,3)\"\n",
    "    s = list(iterable)\n",
    "    return itertools.chain.from_iterable(itertools.combinations(s, r) for r in range(len(s)+1))"
   ]
  },
  {
   "cell_type": "code",
   "execution_count": 3,
   "id": "a142fcfa",
   "metadata": {},
   "outputs": [],
   "source": [
    "class BasisBlade():\n",
    "    \"\"\"Can store blades in the form of e1 e2 e4 e7 (for example)\"\"\"\n",
    "    def __init__(self, *arg_idcs, one_indexed=True):\n",
    "        \"\"\"Takes idcs as an iterable with indices (e.g., (0,1,2,6)) or None value for a scalar\n",
    "        Store internally as 0-indexed but allow for 1-indexed inputs by default\n",
    "\n",
    "        Note: automatically rearranges indices as the BasisBlade class has no concept of sign!\n",
    "        \"\"\"\n",
    "        self.is_scalar   = len(arg_idcs) == 0 or arg_idcs[0] is None or isinstance(arg_idcs[0], tuple)\n",
    "        self.one_indexed = one_indexed\n",
    "        if self.is_scalar:\n",
    "            self.idcs = np.array([])\n",
    "        else:\n",
    "            self.idcs = np.sort(np.unique(np.array(arg_idcs).astype(int)))\n",
    "            if one_indexed:\n",
    "                self.idcs = self.idcs - 1\n",
    "        self.k = self.idcs.size\n",
    "        self.n_lower_bound = 1 if self.is_scalar else np.max(self.idcs)\n",
    "\n",
    "    def __str__(self):\n",
    "        \"\"\"More visually-appealing representation\"\"\"\n",
    "        if self.is_scalar:\n",
    "            return f\"(1)\"\n",
    "        str_rep = \"\"\n",
    "        for idx in self.idcs:\n",
    "            str_rep += f\"e{idx+1}\"\n",
    "        return str_rep\n",
    "    __repr__ = __str__\n",
    "    # def __repr__(self):\n",
    "    #     \"\"\"Potentially more useful info for debugging\"\"\"\n",
    "    #     return f\"Basis blade with idcs={self.idcs}\"\n",
    "    \n",
    "    def __eq__(self, other):\n",
    "        if other is None:\n",
    "            return False\n",
    "        assert isinstance(other, BasisBlade)\n",
    "        slen = len(self.idcs)\n",
    "        olen = len(other.idcs)\n",
    "        if slen == 0 or olen == 0:\n",
    "            return slen == olen\n",
    "        return (slen == olen) and np.all(self.idcs == other.idcs)\n",
    "    \n",
    "    def __mul__(self, other, skip_clean=False):\n",
    "        if isinstance(other, Number):\n",
    "            res = Blade(other, self)\n",
    "        elif isinstance(other, BasisBlade):\n",
    "            res = Blade(1, self)*Blade(1, other)\n",
    "        elif isinstance(other, Blade):\n",
    "            res = Blade(1, self)*other\n",
    "        else:\n",
    "            raise ValueError(f\"Not implemented: BasisBlade.__mul__ passed arg of type {type(other)}\")\n",
    "        return clean_mvec(res, skip=skip_clean)\n",
    "\n",
    "    def __rmul__(self, other):\n",
    "        if isinstance(other, Number):\n",
    "            return clean_mvec(Blade(other, self))\n",
    "        else:\n",
    "            raise ValueError(f\"Not supported: BasisBlade.__rmul__ passed arg of type {type(other)}\")\n",
    "\n",
    "    def __neg__(self):\n",
    "        return Blade(-1, self)\n",
    "    \n",
    "    def __add__(self, other, skip_clean=False):\n",
    "        if isinstance(other, Number):\n",
    "            res = Blade(1, self) + Blade(other, None)\n",
    "        elif isinstance(other, BasisBlade):\n",
    "            res = Blade(1, self) + Blade(1, other)\n",
    "        elif isinstance(other, MultivectorExplicit):\n",
    "            res = MultivectorExplicit([Blade(1, self)]) + other\n",
    "        else:\n",
    "            raise ValueError(f\"Not implemented: BasisBlade.__add__ passed arg of type {type(other)}\")\n",
    "        return clean_mvec(res, skip=skip_clean)\n",
    "\n",
    "    __radd__ = __add__ # commutative\n",
    "\n",
    "    def to_internal_idx(self, n=None):\n",
    "        \"\"\"Can just use lexicographic order for internal reductions\"\"\"\n",
    "        # k is the grade of this blade..\n",
    "        if self.is_scalar:\n",
    "            val = 0\n",
    "        else:\n",
    "            n = self.n_lower_bound if n is None else n\n",
    "            dense_idcs = np.zeros(n+1, dtype=bool)\n",
    "            dense_idcs[self.idcs] = 1\n",
    "            # print(f\"dense idcs: {dense_idcs}\")\n",
    "            # val = np.sum(np.left_shift(dense_idcs, np.arange(n, -1, -1)))\n",
    "            val = np.sum(np.left_shift(dense_idcs, np.arange(n+1)))\n",
    "        return 2**(self.k) + val # not a dense indexing but would allow for the appropriate ordering I think\n",
    "\n",
    "Scalar = BasisBlade()\n",
    "\n",
    "# Parity sign operator\n",
    "psgn = lambda k: 1 if (k%2 == 0) else -1\n",
    "\n",
    "\n",
    "class Blade():\n",
    "    \"\"\"Store the weight here to make it easier to absorb sign flips\"\"\"\n",
    "\n",
    "    def __init__(self, weight, basis_blade):\n",
    "        \"\"\"Stores a weight in addition to the standard stuff\"\"\"\n",
    "        self.weight = weight\n",
    "        self.basis_blade = basis_blade\n",
    "\n",
    "    def __str__(self):\n",
    "        return f\"{str(np.array(self.weight))} {str(self.basis_blade)}\"\n",
    "    __repr__ = __str__\n",
    "    # def __repr__(self):\n",
    "    #     return f\"Blade with w={self.weight}, idcs={self.basis_blade.idcs}\"\n",
    "    def __eq__(self, other):\n",
    "        return (self.weight == other.weight) and (self.basis_blade == other.basis_blade)\n",
    "    def __neg__(self):\n",
    "        return Blade(-self.weight, self.basis_blade)\n",
    "\n",
    "    def __rmul__(self, other):\n",
    "        \"\"\"Should only need to perform a multiplication with a scalar\"\"\"\n",
    "        if isinstance(other, Number):\n",
    "            return clean_mvec(Blade(self.weight*other, self.basis_blade))\n",
    "        else:\n",
    "            raise ValueError(f\"Not supported: Blade.__rmul__ passed arg of type {type(other)}\")\n",
    "    def __sub__(self, other):\n",
    "        return clean_mvec(self + other.__neg__())\n",
    "    def __rsub__(self, other):\n",
    "        return clean_mvec(other + self.__neg__())\n",
    "\n",
    "    def __mul__(self, other, skip_clean=False):\n",
    "        \"\"\"Perform a multiplication to get another blade\n",
    "        Effectively merge the two sorted lists while counting the number\n",
    "        of indices from the first blade exceeding the other blade (when relevant)\n",
    "        \"\"\"\n",
    "        sign_adj = 1 # sign adjustment\n",
    "        sidcs = self.basis_blade.idcs\n",
    "        if isinstance(other, Number):\n",
    "            res = Blade(self.weight*other, self.basis_blade)\n",
    "        elif isinstance(other, BasisBlade):\n",
    "            res = self * Blade(1, other)\n",
    "        elif isinstance(other, Blade):\n",
    "            oidcs = other.basis_blade.idcs\n",
    "            slen  = sidcs.shape[0]\n",
    "            olen  = oidcs.shape[0]\n",
    "            if slen == 0:\n",
    "                res = Blade(self.weight*other.weight*sign_adj, other.basis_blade)\n",
    "                return clean_mvec(res)\n",
    "            elif olen == 0:\n",
    "                res = Blade(self.weight*other.weight*sign_adj, self.basis_blade)\n",
    "                return clean_mvec(res)\n",
    "            new_idcs = []\n",
    "            si = 0\n",
    "            oi = 0\n",
    "            while (si < slen) and (oi < olen):\n",
    "                k = si+oi\n",
    "                # print(f\"k={k}; new_idcs={new_idcs}; sidcs={sidcs[si:]}; oidcs={oidcs[oi:]}\")\n",
    "                if oidcs[oi] < sidcs[si]:\n",
    "                    # Shift the idx from other blade up\n",
    "                    new_idcs.append(oidcs[oi])\n",
    "                    num_after = slen - si # check this..\n",
    "                    sign_adj *= psgn(num_after)\n",
    "                    oi += 1\n",
    "                elif oidcs[oi] > sidcs[si]:\n",
    "                    # Shift the idx from self's blade up; no sign adjustment needed\n",
    "                    new_idcs.append(sidcs[si])\n",
    "                    si += 1\n",
    "                else: #  oidcs[oi] == sidcs[si]:\n",
    "                    # in case of a tie, advance both but update the sign counter\n",
    "                    num_after = slen - (si+1) # for safety..\n",
    "                    sign_adj *= psgn(num_after) # make the sign adjustments by parity required\n",
    "                    oi += 1\n",
    "                    si += 1\n",
    "            if si < slen:\n",
    "                new_idcs = new_idcs + list(sidcs[si:])\n",
    "            elif oi < olen:\n",
    "                new_idcs = new_idcs + list(oidcs[oi:])\n",
    "            # print(f\"End; new_idcs={new_idcs}; sidcs={sidcs[si:]}; oidcs={oidcs[oi:]}\")\n",
    "            # print(f\"Sign adjustment: {sign_adj}\")\n",
    "            res = Blade(self.weight*other.weight*sign_adj, BasisBlade(*new_idcs, one_indexed=False))\n",
    "        else:\n",
    "            raise ValueError(f\"Not implemented: Blade.__mul__ passed arg of type {type(other)}\")\n",
    "        return clean_mvec(res, skip=skip_clean)\n",
    "\n",
    "    def __add__(self, other, skip_clean=False):\n",
    "        \"\"\"Get a multivector if the basis vectors don't match\"\"\"\n",
    "        if isinstance(other, Number):\n",
    "            res =  self + Blade(other, BasisBlade(None)) # promote scalar to basis blade type\n",
    "        elif isinstance(other, BasisBlade):\n",
    "            res =  self + Blade(1, other)\n",
    "        elif isinstance(other, Blade):\n",
    "            \"\"\"Now can do some comparisons\"\"\"\n",
    "            if self.basis_blade == other.basis_blade:\n",
    "                res =  Blade(self.weight + other.weight, self.basis_blade)\n",
    "            else:\n",
    "                res =  MultivectorExplicit([self, other])\n",
    "        elif isinstance(other, Iterable):\n",
    "            res =  self + MultivectorExplicit(other)\n",
    "        elif isinstance(other, MultivectorExplicit):\n",
    "            res =  MultivectorExplicit([self]) + other\n",
    "        else:\n",
    "            raise ValueError(f\"Not implemented (yet): Blade.__add__ passed arg of type {type(other)}\")\n",
    "        return clean_mvec(res, skip=skip_clean)\n",
    "\n",
    "    __radd__ = __add__ # commutative\n",
    "\n",
    "    def __sub__(self, other):\n",
    "        res = self + other.__neg__()\n",
    "        return clean_mvec(res)\n",
    "    def __rsub__(self, other):\n",
    "        return clean_mvec(other + self.__neg__())\n",
    "\n",
    "    def hashable_idcs(self):\n",
    "        return tuple(self.basis_blade.idcs)\n",
    "\n",
    "def OrdBlade(*arg_idcs, one_indexed=True):\n",
    "    \"\"\"If we want to input an signed/ordered version of the basis blades (still stored in sorted order)\n",
    "    Slightly misleading capitalization as this returns a Blade type rather than being its own type\n",
    "    \"\"\"\n",
    "    if len(arg_idcs) == 0 or arg_idcs[0] is None:\n",
    "        parity_sign = 1 # give it as a None\n",
    "        blade_idcs = None\n",
    "    else:\n",
    "        idcs = np.array(arg_idcs).astype(int)\n",
    "        so   = np.argsort(idcs, kind='stable') # avoid spurious transpositions if there are repeats\n",
    "        inversion_mat = so[:,np.newaxis] > so[np.newaxis, :]\n",
    "        inversion_num = np.sum(np.triu(inversion_mat)) # count inversions for perm parity\n",
    "        parity_sign = psgn(inversion_num)\n",
    "        sorted_idcs = idcs[so]\n",
    "\n",
    "        unique_idcs, counts = np.unique(sorted_idcs, return_counts=True)\n",
    "        blade_idcs  = unique_idcs[counts%2 != 0]\n",
    "    return Blade(parity_sign, BasisBlade(blade_idcs, one_indexed=one_indexed))\n",
    "\n",
    "def reduce_blades(blades):\n",
    "    \"\"\"Helper function to reduce any repeats or zeroes\n",
    "    For now, just use a cheap internal index until I figure out the visually meaningful version..\n",
    "    \"\"\"\n",
    "    nonzero_blades = [blade for blade in blades if blade.weight != 0]\n",
    "    nblen = len(nonzero_blades)\n",
    "    n_max = np.max([blade.basis_blade.n_lower_bound for blade in nonzero_blades])\n",
    "    so = np.argsort([blade.basis_blade.to_internal_idx(n_max) for blade in nonzero_blades])\n",
    "    sorted_blades = [nonzero_blades[so[i]] for i in range(nblen)]\n",
    "\n",
    "    last_basis_blade = None\n",
    "    reduced_blades = []\n",
    "    # ri = 0\n",
    "    for si, sblade in enumerate(sorted_blades):\n",
    "        if sblade.basis_blade != last_basis_blade:\n",
    "            new_blade = Blade(sblade.weight, sblade.basis_blade) # make a new object\n",
    "            last_basis_blade = sblade.basis_blade\n",
    "            reduced_blades.append(new_blade)\n",
    "        else:\n",
    "            reduced_blades[-1].weight += sblade.weight\n",
    "    return reduced_blades\n",
    "\n",
    "def clean_mvec(mvec, skip=False):\n",
    "    \"\"\"Sends a zero blade to the zero scalar for simplicity;\n",
    "    also sends a single-blade multivector to a blade (possibly the zero scalar)\n",
    "    Takes any type\n",
    "    \"\"\"\n",
    "    if skip:\n",
    "        return mvec\n",
    "    if isinstance(mvec, BasisBlade):\n",
    "        res = mvec\n",
    "    elif isinstance(mvec, Blade):\n",
    "        res =  mvec if mvec.weight != 0 else Blade(0, Scalar)\n",
    "    elif isinstance(mvec, Iterable):\n",
    "        red_blades = reduce_blades(mvec)\n",
    "        if len(red_blades) == 1:\n",
    "            res = clean_mvec(red_blades[0]) # sends as a Blade object (which is checked for being zero)\n",
    "        else:\n",
    "            res = red_blades\n",
    "    elif isinstance(mvec, MultivectorExplicit):\n",
    "        cleaned_blades = clean_mvec(mvec.blades)\n",
    "        if isinstance(cleaned_blades, Iterable):\n",
    "            # assume it's a list of blades..\n",
    "            res = MultivectorExplicit(cleaned_blades)\n",
    "        else:\n",
    "            res = cleaned_blades\n",
    "    else:\n",
    "        raise ValueError(f\"(unsupported) clean_blade received argument with type {type(mvec)}\")\n",
    "    return res\n",
    "\n",
    "class MultivectorExplicit():\n",
    "    \"\"\"Explicitly store the multivector as a weighted sum of the basis blades\n",
    "    Could just as well store as a list of blades, but this provides a slightly lighter interface\n",
    "    \"\"\"\n",
    "    def __init__(self, blades):\n",
    "        \"\"\"Takes in iterables of weights and relevant basis blades\n",
    "        \"\"\"\n",
    "        self.blades = reduce_blades(blades) # don't call clean since that might not give a list of blades\n",
    "\n",
    "    def __str__(self):\n",
    "        string = \"\"\n",
    "        for i, blade in enumerate(self.blades):\n",
    "            w  = blade.weight\n",
    "            bb = blade.basis_blade\n",
    "            if w == 0:\n",
    "                continue\n",
    "            if i > 0:\n",
    "                string += \" + \" if w > 0 else \" - \"\n",
    "            if bb == BasisBlade():\n",
    "                string += f\"{str(np.abs(w))}\"\n",
    "            else:\n",
    "                string += f\"{str(np.abs(w))} {str(bb)}\"\n",
    "        return string\n",
    "    __repr__ = __str__\n",
    "    \n",
    "    def __add__(self, other, skip_clean=False):\n",
    "        if isinstance(other, Number):\n",
    "            other_as_blade_list = [Blade(other, Scalar)]\n",
    "        elif isinstance(other, BasisBlade):\n",
    "            other_as_blade_list = [Blade(1, other)]\n",
    "        elif isinstance(other, Blade):\n",
    "            other_as_blade_list = [other]\n",
    "        elif isinstance(other, MultivectorExplicit):\n",
    "            other_as_blade_list = other\n",
    "        # print(f\">> {other_as_blade_list}\")\n",
    "        res = MultivectorExplicit(self.blades + other_as_blade_list)\n",
    "        return clean_mvec(res, skip=skip_clean)\n",
    "\n",
    "    __radd__ = __add__\n",
    "\n",
    "    def __rmul__(self, other):\n",
    "        if isinstance(other, Number):\n",
    "            return MultivectorExplicit([[other*blade for blade in self.blades]])\n",
    "        else:\n",
    "            raise ValueError(f\"Not implemented (yet): MultivectorExplicit.__rmul__ passed arg of type {type(other)}\")\n",
    "\n",
    "    def __mul__(self, other, skip_clean=False):\n",
    "        \"\"\"Basically handle by a cartesian product and a reduction\"\"\"\n",
    "        if isinstance(other, Number):\n",
    "            res = MultivectorExplicit([sb.__mul__(other, skip_clean=True) for sb in self.blades])\n",
    "        elif isinstance(other, BasisBlade):\n",
    "            res = self * Blade(1, other)\n",
    "        elif isinstance(other, Blade):\n",
    "            interactions = [sb.__mul__(other, skip_clean=True) for sb in self.blades] # list of blades\n",
    "            res = Multivector(interactions)\n",
    "        elif isinstance(other, MultivectorExplicit):\n",
    "            all_interactions = [sb.__mul__(ob, skip_clean=True) for sb in self.blades for ob in other.blades] # list of blades\n",
    "            res = MultivectorExplicit(all_interactions)\n",
    "        else:\n",
    "            raise ValueError(f\"Not implemented (yet): MultivectorExplicit.__rmul__\"\n",
    "                             f\" passed arg of type {type(other)}\")\n",
    "        return clean_mvec(res, skip=skip_clean)"
   ]
  },
  {
   "cell_type": "code",
   "execution_count": 4,
   "id": "2b7517ac",
   "metadata": {},
   "outputs": [
    {
     "name": "stdout",
     "output_type": "stream",
     "text": [
      "2 e1e2e3\n"
     ]
    }
   ],
   "source": [
    "print(MultivectorExplicit([OrdBlade(1,2,3), OrdBlade(1,2,3)]))"
   ]
  },
  {
   "cell_type": "code",
   "execution_count": 5,
   "id": "8a1ae7b8",
   "metadata": {},
   "outputs": [
    {
     "data": {
      "text/plain": [
       "0 (1)"
      ]
     },
     "execution_count": 5,
     "metadata": {},
     "output_type": "execute_result"
    }
   ],
   "source": [
    "OrdBlade(1,2,3) + OrdBlade(1,3,2)"
   ]
  },
  {
   "cell_type": "code",
   "execution_count": 6,
   "id": "add80ccb",
   "metadata": {},
   "outputs": [
    {
     "name": "stdout",
     "output_type": "stream",
     "text": [
      "e1e2e3\n"
     ]
    }
   ],
   "source": [
    "# BasisBlade type captures the basic geometric product of different basis vectors\n",
    "# Note that the inputs get sorted and repeated inputs are trimmed to 1 copy\n",
    "e1e2e3 = BasisBlade(1,2,3)\n",
    "print(e1e2e3)"
   ]
  },
  {
   "cell_type": "code",
   "execution_count": 7,
   "id": "b0bcb616",
   "metadata": {},
   "outputs": [
    {
     "name": "stdout",
     "output_type": "stream",
     "text": [
      "2 (1), 3.14 e1e2e3, 2 e3, type:<class '__main__.Blade'>\n"
     ]
    }
   ],
   "source": [
    "# Can make weighted blades by scalar multiplication against BasisBlade types \n",
    "# For simplicity, the BasisBlade type does not carry any weights\n",
    "a = 2 * BasisBlade(None,) # handles scalars\n",
    "b = 3.14 * BasisBlade(1,2,3)\n",
    "c = 2 * BasisBlade(3)\n",
    "print(f\"{a}, {b}, {c}, type:{type(a)}\")"
   ]
  },
  {
   "cell_type": "code",
   "execution_count": 8,
   "id": "f4a5340d",
   "metadata": {},
   "outputs": [
    {
     "name": "stdout",
     "output_type": "stream",
     "text": [
      "-1 e0e3  with type <class '__main__.Blade'>\n"
     ]
    }
   ],
   "source": [
    "# To handle inputs of specifically ordered basis vector indices\n",
    "# use a different function that returns a Blade object to carry the sign\n",
    "d = OrdBlade(2,1,3,2,0,1)\n",
    "print(f\"{d}  with type {type(d)}\")"
   ]
  },
  {
   "cell_type": "code",
   "execution_count": 9,
   "id": "1fcdfb18",
   "metadata": {},
   "outputs": [
    {
     "name": "stdout",
     "output_type": "stream",
     "text": [
      "Handles repeated basis vectors well\n",
      "1 e1e2; 1 e2; 1 e1e2; -1 e2\n"
     ]
    }
   ],
   "source": [
    "print(f\"Handles repeated basis vectors well\")\n",
    "print(f\"{OrdBlade(1,2)}; {OrdBlade(1,1,2)}; {OrdBlade(1,1,1,2)}; {OrdBlade(1,2,1)}\")"
   ]
  },
  {
   "cell_type": "code",
   "execution_count": 10,
   "id": "e385ced3",
   "metadata": {},
   "outputs": [
    {
     "name": "stdout",
     "output_type": "stream",
     "text": [
      "Scalar and blade-blade multiplication are implemented\n",
      "30 e2\n",
      "\n",
      "Blade-blade addition is supported and gives a MultivectorExplicit object\n",
      "which basically stores a list of BasisBlades and the weights/coefficients\n",
      "2 + 3.14 e1e2e3\n"
     ]
    }
   ],
   "source": [
    "print(\"Scalar and blade-blade multiplication are implemented\")\n",
    "print(5*BasisBlade(1,)*3*BasisBlade(1,2)*2)\n",
    "print()\n",
    "print(\"Blade-blade addition is supported and gives a MultivectorExplicit object\\n\"\n",
    "      \"which basically stores a list of BasisBlades and the weights/coefficients\")\n",
    "print(a+b)"
   ]
  },
  {
   "cell_type": "code",
   "execution_count": 11,
   "id": "9386d9ae",
   "metadata": {},
   "outputs": [
    {
     "name": "stdout",
     "output_type": "stream",
     "text": [
      "Another blade-blade addition involving subtraction\n",
      "one of the operations collapses the two blades into a single blade\n",
      "the second operation creates a MultivectorExplicit because they don't share the basis blade\n",
      "\n",
      "4 + 3 e1e2\n"
     ]
    }
   ],
   "source": [
    "print(\"Another blade-blade addition involving subtraction\\n\"\n",
    "      \"one of the operations collapses the two blades into a single blade\\n\"\n",
    "      \"the second operation creates a MultivectorExplicit because they don't share the basis blade\\n\")\n",
    "print(4*OrdBlade(None) + (2*OrdBlade(1,2) - 1*OrdBlade(2,1)))"
   ]
  },
  {
   "cell_type": "code",
   "execution_count": 12,
   "id": "86a57432",
   "metadata": {},
   "outputs": [
    {
     "name": "stdout",
     "output_type": "stream",
     "text": [
      "3 + 1 e1 + 1 e2 - 1 e1e2 - 1 e1e2e3\n"
     ]
    }
   ],
   "source": [
    "# Can handle different orders of the blades\n",
    "print(OrdBlade(1,2) + 3 + 2*OrdBlade(2,1) + OrdBlade(1) + OrdBlade(1,3,2) + OrdBlade(2))"
   ]
  },
  {
   "cell_type": "code",
   "execution_count": 13,
   "id": "ad7f7615",
   "metadata": {},
   "outputs": [
    {
     "name": "stdout",
     "output_type": "stream",
     "text": [
      "Result of the example from class: 1 + 1 e1 - 1 e2 + 1 e3 + 2 e1e2 + 1 e2e3 + 2 e1e2e3\n"
     ]
    }
   ],
   "source": [
    "term_a = (1+OrdBlade(1,2) + OrdBlade(1,2,3))\n",
    "term_b = (1+OrdBlade(1)+OrdBlade(3))\n",
    "print(f\"Result of the example from class: {term_a * term_b}\")"
   ]
  },
  {
   "cell_type": "code",
   "execution_count": 14,
   "id": "6e9303f4",
   "metadata": {},
   "outputs": [],
   "source": [
    "# Now get to the flattened representation\n",
    "\n",
    "def get_basis_set(n):\n",
    "    \"\"\"Get the basis of G^n using the powerset of {1,2, ..., n}\"\"\"\n",
    "    basis_set = []\n",
    "    for subset in powerset(range(1,1+n)):\n",
    "        basis_set.append(BasisBlade(*subset))\n",
    "    return basis_set\n",
    "\n",
    "def basis_interaction_table(n, print_table=False):\n",
    "    \"\"\"Find all the pairwise interactions of the basis\"\"\"\n",
    "    basis_set = get_basis_set(n)\n",
    "    table = [[b1*b2 for b2 in basis_set] for b1 in basis_set]\n",
    "    col_width = 2 + 2*n\n",
    "    if print_table:\n",
    "        for row in table:\n",
    "            for entry in row:\n",
    "                pm = '+' if np.sign(entry.weight) >=0  else '-'\n",
    "                print(f\"{pm+str(entry.basis_blade):>{col_width}}\", end=\" \")\n",
    "            print()        \n",
    "    return table\n",
    "\n",
    "def basis_dense_index_map(n):\n",
    "    \"\"\"Get a dense mapping from tuples of basis vectors used to indices\"\"\"\n",
    "    index_map = {tuple(bv.idcs): idx for idx, bv in enumerate(get_basis_set(n))}\n",
    "    return {None: 0, **index_map} # Just explicitly catch the None case\n",
    "\n",
    "def lookup_table_2d(n):\n",
    "    \"\"\"Go from input entry index to the output index after the geometric product\"\"\"\n",
    "    idx_map = basis_dense_index_map(n)\n",
    "    table   = basis_interaction_table(n)\n",
    "    lookup_table = np.array([[idx_map[tuple(bv.basis_blade.idcs)] for bv in row] for row in table])\n",
    "    sign_table   = np.array([[np.sign(bv.weight) for bv in row] for row in table])\n",
    "    return lookup_table, sign_table\n",
    "\n",
    "class GnObj():\n",
    "    \"\"\"Object to hold the lookup table for a given dimensionality n\"\"\"\n",
    "    def __init__(self, n):\n",
    "        self.n = n\n",
    "        self.blen = 2**n # basis length\n",
    "        self.powerset_out = list(powerset(range(0,n)))\n",
    "        self.basis_set = get_basis_set(n)\n",
    "        self.idx_map   = basis_dense_index_map(n)\n",
    "        lookup_table, sign_table = lookup_table_2d(n)\n",
    "        self.lookup_table = lookup_table\n",
    "        self.sign_table   = sign_table\n",
    "\n",
    "        _, _, idxk = np.indices((2**n, 2**n, 2**n))\n",
    "        self.dense_lookup_table = self.lookup_table[:, :, np.newaxis] == idxk\n",
    "\n",
    "    def flatten_mve(self, mvec):\n",
    "        \"\"\"Takes a MultivectorExplicit and sends it into the flattened representation using the indices\"\"\"\n",
    "        out_arr = np.zeros(2**self.n)\n",
    "        for bv in mvec.blades:\n",
    "            out_arr[self.idx_map[bv.hashable_idcs()]] = bv.weight\n",
    "        return out_arr\n",
    "    \n",
    "    def to_mve(self, mv1):\n",
    "        \"\"\"Blow up an array to the Multivector Explicit form\"\"\"\n",
    "        blade_list = []\n",
    "        for b_idcs in self.powerset_out:\n",
    "            idx = self.idx_map[b_idcs]\n",
    "            new_blade = Blade(mv1[idx], self.basis_set[idx])\n",
    "            if new_blade.weight != 0:\n",
    "                blade_list.append(new_blade)\n",
    "        return MultivectorExplicit(blade_list)\n",
    "\n",
    "    def mult_dense(self, mv1, mv2):\n",
    "        \"\"\"Takes multivectors in flattened form\"\"\"\n",
    "        assert(len(mv1) == self.blen)\n",
    "        assert(len(mv2) == self.blen)\n",
    "        # First, get the pairwise products\n",
    "        init_mult_table = mv1[:, np.newaxis] * mv2[np.newaxis, :] * self.sign_table\n",
    "        # Next, need to map to the outputs using the sign table\n",
    "        flattened_vals = np.sum(self.dense_lookup_table * init_mult_table[:,:, np.newaxis], axis=(0,1))\n",
    "        return flattened_vals"
   ]
  },
  {
   "cell_type": "code",
   "execution_count": 15,
   "id": "864e2d59",
   "metadata": {},
   "outputs": [
    {
     "name": "stdout",
     "output_type": "stream",
     "text": [
      "Flattening operation onto the MultivectorExplicit objects\n"
     ]
    },
    {
     "data": {
      "text/plain": [
       "array([ 0., -2.,  0.,  0.,  1.,  0.,  0.,  1.])"
      ]
     },
     "execution_count": 15,
     "metadata": {},
     "output_type": "execute_result"
    }
   ],
   "source": [
    "print(f\"Flattening operation onto the MultivectorExplicit objects\")\n",
    "GnObj(3).flatten_mve(OrdBlade(1,2,3)+OrdBlade(1,2)-2*OrdBlade(1))"
   ]
  },
  {
   "cell_type": "code",
   "execution_count": 16,
   "id": "216c0b99",
   "metadata": {},
   "outputs": [
    {
     "name": "stdout",
     "output_type": "stream",
     "text": [
      "Two different ways to do the same multiplication represented in two different ways\n",
      "Explicit multiplication:  [ 1.  1. -1.  1.  2.  0.  1.  2.]\n",
      "Flattened multiplication: [ 1.  1. -1.  1.  2.  0.  1.  2.]\n",
      "From Explicit:  1 + 1 e1 - 1 e2 + 1 e3 + 2 e1e2 + 1 e2e3 + 2 e1e2e3\n",
      "From flattened: 1.0 + 1.0 e1 - 1.0 e2 + 1.0 e3 + 2.0 e1e2 + 1.0 e2e3 + 2.0 e1e2e3\n"
     ]
    }
   ],
   "source": [
    "# term_a = (1+OrdBlade(1,2) + OrdBlade(1,2,3))\n",
    "# term_b = (1+OrdBlade(1)+OrdBlade(3))\n",
    "G3Obj = GnObj(3)\n",
    "flattened_a = G3Obj.flatten_mve(term_a)\n",
    "flattened_b = G3Obj.flatten_mve(term_b)\n",
    "print(f\"Two different ways to do the same multiplication represented in two different ways\")\n",
    "print(f\"Explicit multiplication:  {G3Obj.flatten_mve(term_a * term_b)}\")\n",
    "print(f\"Flattened multiplication: {G3Obj.mult_dense(flattened_a, flattened_b)}\")\n",
    "print(f\"From Explicit:  {term_a * term_b}\")\n",
    "print(f\"From flattened: {G3Obj.to_mve(G3Obj.mult_dense(flattened_a, flattened_b))}\")"
   ]
  },
  {
   "cell_type": "code",
   "execution_count": 17,
   "id": "711cffae",
   "metadata": {},
   "outputs": [
    {
     "name": "stdout",
     "output_type": "stream",
     "text": [
      "Lookup table by indices -- might be helpful for looking for patterns\n",
      "[[0 1 2 3 4 5 6 7]\n",
      " [1 0 4 5 2 3 7 6]\n",
      " [2 4 0 6 1 7 3 5]\n",
      " [3 5 6 0 7 1 2 4]\n",
      " [4 2 1 7 0 6 5 3]\n",
      " [5 3 7 1 6 0 4 2]\n",
      " [6 7 3 2 5 4 0 1]\n",
      " [7 6 5 4 3 2 1 0]]\n"
     ]
    }
   ],
   "source": [
    "print(f\"Lookup table by indices -- might be helpful for looking for patterns\")\n",
    "print(lookup_table_2d(3)[0])"
   ]
  },
  {
   "cell_type": "code",
   "execution_count": 18,
   "id": "b8287fe2",
   "metadata": {},
   "outputs": [
    {
     "name": "stdout",
     "output_type": "stream",
     "text": [
      "Full interaction table in terms of the signed basis blades\n",
      "    +(1)      +e1      +e2      +e3    +e1e2    +e1e3    +e2e3  +e1e2e3 \n",
      "     +e1     +(1)    +e1e2    +e1e3      +e2      +e3  +e1e2e3    +e2e3 \n",
      "     +e2    -e1e2     +(1)    +e2e3      -e1  -e1e2e3      +e3    -e1e3 \n",
      "     +e3    -e1e3    -e2e3     +(1)  +e1e2e3      -e1      -e2    +e1e2 \n",
      "   +e1e2      -e2      +e1  +e1e2e3     -(1)    -e2e3    +e1e3      -e3 \n",
      "   +e1e3      -e3  -e1e2e3      +e1    +e2e3     -(1)    -e1e2      +e2 \n",
      "   +e2e3  +e1e2e3      -e3      +e2    -e1e3    +e1e2     -(1)      -e1 \n",
      " +e1e2e3    +e2e3    -e1e3    +e1e2      -e3      +e2      -e1     -(1) \n"
     ]
    }
   ],
   "source": [
    "print(f\"Full interaction table in terms of the signed basis blades\")\n",
    "table3 = basis_interaction_table(3, print_table=True)"
   ]
  },
  {
   "cell_type": "code",
   "execution_count": 19,
   "id": "bdc4f08c",
   "metadata": {},
   "outputs": [],
   "source": [
    "# # In case you want to see wider tables as HTML tables...\n",
    "# import pandas as pd\n",
    "# from IPython.display import HTML\n",
    "# table = basis_interaction_table(3)\n",
    "# HTML(pd.DataFrame(table).to_html(index=False,header=False))"
   ]
  },
  {
   "cell_type": "code",
   "execution_count": null,
   "id": "c4f58837",
   "metadata": {},
   "outputs": [],
   "source": []
  }
 ],
 "metadata": {
  "kernelspec": {
   "display_name": "jax-cpu-only",
   "language": "python",
   "name": "jax-cpu-only"
  },
  "language_info": {
   "codemirror_mode": {
    "name": "ipython",
    "version": 3
   },
   "file_extension": ".py",
   "mimetype": "text/x-python",
   "name": "python",
   "nbconvert_exporter": "python",
   "pygments_lexer": "ipython3",
   "version": "3.10.9"
  }
 },
 "nbformat": 4,
 "nbformat_minor": 5
}
